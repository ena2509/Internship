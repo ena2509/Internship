{
 "cells": [
  {
   "cell_type": "code",
   "execution_count": 1,
   "id": "895556c9",
   "metadata": {},
   "outputs": [],
   "source": [
    "import os\n",
    "import sys\n",
    "import touch\n",
    "from pathlib import Path\n"
   ]
  },
  {
   "cell_type": "code",
   "execution_count": 2,
   "id": "be9674f7",
   "metadata": {},
   "outputs": [],
   "source": [
    "import warnings\n",
    "warnings.filterwarnings('ignore')"
   ]
  },
  {
   "cell_type": "code",
   "execution_count": 4,
   "id": "164048f3",
   "metadata": {},
   "outputs": [
    {
     "name": "stdout",
     "output_type": "stream",
     "text": [
      "task\n"
     ]
    }
   ],
   "source": [
    "directory = input()"
   ]
  },
  {
   "cell_type": "code",
   "execution_count": 5,
   "id": "10b388bc",
   "metadata": {},
   "outputs": [],
   "source": [
    "parent_dir =r\"C:\\Users\\Acer\\Desktop\\Python\""
   ]
  },
  {
   "cell_type": "code",
   "execution_count": 6,
   "id": "536dea67",
   "metadata": {},
   "outputs": [],
   "source": [
    "# Path\n",
    "path_1 = os.path.join(parent_dir, directory)"
   ]
  },
  {
   "cell_type": "code",
   "execution_count": null,
   "id": "575c3a05",
   "metadata": {},
   "outputs": [],
   "source": [
    " \n",
    "cd=input()\n",
    "if cd=='mkdir':\n",
    "    os.mkdir(path_1)\n",
    "    print(\"Directory '% s' created\" % directory)\n",
    "elif cd=='remove':\n",
    "    print(\"Directory '%s'removed\"% directory)\n",
    "elif cd=='touch':\n",
    "    import touch\n",
    "    file=input()\n",
    "    path = os.path.join(path_1,file)\n",
    "    Path(path).touch()\n",
    "elif cd=='cat':\n",
    "    cmd_cat=input()\n",
    "    os.system(\"cat_create cat\")\n",
    "elif cd=='echo':\n",
    "    cmd1=input()\n",
    "    os.system(\"echo\" +cmd1 \"> cat_create\") #create a file\n",
    "    \n"
   ]
  },
  {
   "cell_type": "code",
   "execution_count": null,
   "id": "b038a94e",
   "metadata": {},
   "outputs": [],
   "source": []
  }
 ],
 "metadata": {
  "kernelspec": {
   "display_name": "Python 3 (ipykernel)",
   "language": "python",
   "name": "python3"
  },
  "language_info": {
   "codemirror_mode": {
    "name": "ipython",
    "version": 3
   },
   "file_extension": ".py",
   "mimetype": "text/x-python",
   "name": "python",
   "nbconvert_exporter": "python",
   "pygments_lexer": "ipython3",
   "version": "3.9.7"
  }
 },
 "nbformat": 4,
 "nbformat_minor": 5
}
