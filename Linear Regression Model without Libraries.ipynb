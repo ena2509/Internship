{
 "cells": [
  {
   "cell_type": "code",
   "execution_count": 1,
   "id": "faf7d954",
   "metadata": {},
   "outputs": [],
   "source": [
    "import matplotlib.pyplot as plt"
   ]
  },
  {
   "cell_type": "code",
   "execution_count": 2,
   "id": "8918cf7d",
   "metadata": {},
   "outputs": [],
   "source": [
    "x_1=[] \n",
    "x_1= [0, 1, 2, 5,4, 5, 6, 7, 8, 9]\n",
    "y_1=[]\n",
    "y_1=[1, 3, 2, 8, 7, 8, 8, 9, 10, 12]\n",
    "x= list(map(float, x_1))\n",
    "y= list(map(float, y_1))\n"
   ]
  },
  {
   "cell_type": "code",
   "execution_count": 3,
   "id": "b6dfe9a5",
   "metadata": {},
   "outputs": [
    {
     "data": {
      "text/plain": [
       "10"
      ]
     },
     "execution_count": 3,
     "metadata": {},
     "output_type": "execute_result"
    }
   ],
   "source": [
    "# number of observations/points\n",
    "m= len(x)\n",
    "m"
   ]
  },
  {
   "cell_type": "code",
   "execution_count": 4,
   "id": "c2bfed56",
   "metadata": {},
   "outputs": [],
   "source": [
    "def mean(sample):\n",
    "       return sum(sample) / len(sample)"
   ]
  },
  {
   "cell_type": "code",
   "execution_count": 5,
   "id": "1e554e6c",
   "metadata": {},
   "outputs": [],
   "source": [
    "# mean of x and y vector\n",
    "m_x = mean(x)\n",
    "m_y = mean(y)"
   ]
  },
  {
   "cell_type": "code",
   "execution_count": 6,
   "id": "a70eb5c5",
   "metadata": {},
   "outputs": [
    {
     "name": "stdout",
     "output_type": "stream",
     "text": [
      "m = 1.1785268414481898 \n",
      "c = 1.260923845193508\n"
     ]
    }
   ],
   "source": [
    "# using the formula to calculate m & c\n",
    "numer=0\n",
    "denom = 0\n",
    "for i in range(m):\n",
    "    numer += (x[i] - m_x) * (y[i] - m_y)\n",
    "    denom += (x[i] - m_x) ** 2\n",
    "    b_1 = numer / denom\n",
    "    b_0= m_y - (b_1 * m_x)\n",
    "\n",
    "print (f'm = {b_1} \\nc = {b_0}')"
   ]
  },
  {
   "cell_type": "code",
   "execution_count": 7,
   "id": "df526a8a",
   "metadata": {},
   "outputs": [
    {
     "name": "stdout",
     "output_type": "stream",
     "text": [
      "[1.260923845193508, 2.439450686641698, 3.6179775280898876, 7.153558052434457, 5.975031210986267, 7.153558052434457, 8.332084893882646, 9.510611735330837, 10.689138576779026, 11.867665418227215]\n"
     ]
    },
    {
     "data": {
      "image/png": "[encoded data removed]",
      "text/plain": [
       "<Figure size 432x288 with 1 Axes>"
      ]
     },
     "metadata": {
      "needs_background": "light"
     },
     "output_type": "display_data"
    }
   ],
   "source": [
    "# plotting the actual points as scatter plot\n",
    "plt.scatter(x, y, color = \"m\",marker = \"o\", s = 30)\n",
    "\n",
    "# predicted response vector\n",
    "y_pred=[]\n",
    "for i in x: \n",
    "    y_2 = b_0 + b_1*i\n",
    "    y_pred.append(y_2)\n",
    "print(y_pred)\n",
    "\n",
    "#plotting the regression line\n",
    "plt.plot(x, y_pred, color = \"g\")\n",
    "\n",
    "#putting labels\n",
    "plt.title('Linear Regression MOdel')\n",
    "plt.xlabel('x')\n",
    "plt.ylabel('y')\n",
    "\n",
    "#function to show plot\n",
    "plt.show()\n",
    "\n"
   ]
  }
 ],
 "metadata": {
  "kernelspec": {
   "display_name": "Python 3 (ipykernel)",
   "language": "python",
   "name": "python3"
  },
  "language_info": {
   "codemirror_mode": {
    "name": "ipython",
    "version": 3
   },
   "file_extension": ".py",
   "mimetype": "text/x-python",
   "name": "python",
   "nbconvert_exporter": "python",
   "pygments_lexer": "ipython3",
   "version": "3.9.7"
  }
 },
 "nbformat": 4,
 "nbformat_minor": 5
}
